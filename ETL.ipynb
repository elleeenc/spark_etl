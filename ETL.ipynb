{
 "cells": [
  {
   "cell_type": "markdown",
   "id": "f99608be-956c-4b3c-954e-152b335eb768",
   "metadata": {},
   "source": [
    "# Instalando pacotes:"
   ]
  },
  {
   "cell_type": "code",
   "execution_count": null,
   "id": "94bda7d6-174e-46b2-af7b-2112e0c3dfd8",
   "metadata": {},
   "outputs": [],
   "source": [
    "pip install --upgrade pip"
   ]
  },
  {
   "cell_type": "code",
   "execution_count": null,
   "id": "e322ef91-66f7-4cc4-a03d-29cd1df3f5f3",
   "metadata": {},
   "outputs": [],
   "source": [
    "pip install  fsspec\n"
   ]
  },
  {
   "cell_type": "code",
   "execution_count": null,
   "id": "fd03166c-33d5-4675-88da-d33b159ca8ab",
   "metadata": {},
   "outputs": [],
   "source": [
    "pip install pandas "
   ]
  },
  {
   "cell_type": "code",
   "execution_count": null,
   "id": "11efc50b-46f4-4f86-80fa-78cbd2d0ab69",
   "metadata": {},
   "outputs": [],
   "source": [
    "import pandas as  pd"
   ]
  },
  {
   "cell_type": "markdown",
   "id": "cca4ad76-b78e-44cf-a982-525dd8d82766",
   "metadata": {},
   "source": [
    " # criando função para ler arquivos e pegando posição dos dados que serão necessários para a extração dos dados"
   ]
  },
  {
   "cell_type": "code",
   "execution_count": null,
   "id": "15f053e5-c51b-4006-8842-5928df706cbe",
   "metadata": {},
   "outputs": [],
   "source": [
    "def read_files(path, name_file, year_date, type_file):\n",
    "    _file = f'{path}{namae_file}{year_date}.{type_file}'\n",
    "    colspecs = [(2,10),\n",
    "                (10,12),\n",
    "                (12,24),\n",
    "                (27,39),\n",
    "                (56,69),\n",
    "                (69,82),\n",
    "                (82,95),\n",
    "                (108,121),\n",
    "                (152,170),\n",
    "                (170,188)\n",
    "    ]\n",
    "    names =['data_pregao', 'cod_bdi', 'sigla_acao', 'nome_acao', 'preco_abertura', 'preco_maximo', 'preco_minino', 'preco_fechamento','qtd_negocios', 'volume_negocios']\n",
    "    df = pd.read_fwf(_file, colspecs = colspecs, names = names, skiprows=1)\n",
    "    return df"
   ]
  },
  {
   "cell_type": "markdown",
   "id": "a4deecab-066c-47e2-bda3-98f3e7747e13",
   "metadata": {},
   "source": [
    "# filtrando o lote padrão atraves do cod_bdi = 2 e apagando a coluna"
   ]
  },
  {
   "cell_type": "code",
   "execution_count": null,
   "id": "e0b333cf-04a7-431d-80db-36ad103beb6c",
   "metadata": {},
   "outputs": [],
   "source": [
    "def filter_stocks(df):\n",
    "    df = df[df['cod_bdi'] == 2]\n",
    "    df = df.drop(['cod_bdi'], axis=1)\n",
    "    return df\n"
   ]
  },
  {
   "cell_type": "markdown",
   "id": "ca70fb01-ece4-4a71-8b3b-d72154b80dc0",
   "metadata": {},
   "source": [
    "# ajuste nos campos de data"
   ]
  },
  {
   "cell_type": "code",
   "execution_count": null,
   "id": "b78240cf-f7e8-40bc-93de-ab5d7356fb00",
   "metadata": {},
   "outputs": [],
   "source": [
    "def parse_date(df):\n",
    "    df['data_pregao'] = pd.to_datetime(df['data_pregao'], format='%Y%m%d')\n",
    "    return df"
   ]
  },
  {
   "cell_type": "markdown",
   "id": "dd82a1cc-0113-47d1-88cb-1f0cb781a415",
   "metadata": {},
   "source": [
    "# ajuste nos campos numericos: dividindo por 100 para ter duas casas decimais"
   ]
  },
  {
   "cell_type": "code",
   "execution_count": null,
   "id": "55a403ae-88a1-408d-b59f-83ff8e9f36e7",
   "metadata": {},
   "outputs": [],
   "source": [
    "def parse_values(df):\n",
    "    df['preco_abertura'] = (df['preco_abertura'] /100).astype(float)\n",
    "    df['preco_maximo'] = (df['preco_maximo'] /100).astype(float)\n",
    "    df['preco_minino'] = (df['preco_minino'] /100).astype(float)\n",
    "    df['preco_fechamento'] = (df['preco_fechamento'] /100).astype(float)\n",
    "    df['qtd_negocios'] = (df['qtd_negocios'].round().astype('Int64'))\n",
    "    df['volume_negocios'] = (df['volume_negocios'].round().astype('Int64'))\n",
    "    return df"
   ]
  },
  {
   "cell_type": "markdown",
   "id": "dbde37e4-7dcb-433b-8388-7b3acfaa34fc",
   "metadata": {},
   "source": [
    "# juntandos os arquivos"
   ]
  },
  {
   "cell_type": "code",
   "execution_count": null,
   "id": "494e86f3-a1f3-43ac-8b5c-cf0ec4ddf0fd",
   "metadata": {},
   "outputs": [],
   "source": [
    "def concat_files(path, name_file, year_date, type_file, final_file):\n",
    "    for i, y in enumerate (year_date):\n",
    "        df = read_files(path, name_file, y, type_file)\n",
    "        df = filter_stocks(df)\n",
    "        df = parse_date(df)\n",
    "        df = parse_values(df)\n",
    "\n",
    "        if i ==0:\n",
    "            df_final = df\n",
    "        else:\n",
    "            df_final = pd.concat([df_final, df])\n",
    "    df_final.to_csv(f'{path}//{final_file}', index=False)"
   ]
  },
  {
   "cell_type": "markdown",
   "id": "8b20ecdf-9b26-46b9-8eb2-d44abecc5cb6",
   "metadata": {},
   "source": [
    "# executando programa ETL"
   ]
  },
  {
   "cell_type": "code",
   "execution_count": null,
   "id": "a184729a-bc65-446f-86f6-3b74d46343a9",
   "metadata": {},
   "outputs": [],
   "source": [
    "year_date = ['2022', '2023', '2024']\n",
    "path = f'C://Users//ellen//OneDrive//Área de Trabalho//COTAHIST//'\n",
    "name_file = 'COTAHIST_A'\n",
    "type_file = 'txt'\n",
    "final_file = 'all_bovespa.csv'\n",
    "concat_files(path, name_file, year_date, type_file, final_file)"
   ]
  },
  {
   "cell_type": "code",
   "execution_count": null,
   "id": "2e8bfa31-3942-49a7-abfc-663cae74e3ff",
   "metadata": {},
   "outputs": [],
   "source": []
  }
 ],
 "metadata": {
  "kernelspec": {
   "display_name": "Python 3 (ipykernel)",
   "language": "python",
   "name": "python3"
  },
  "language_info": {
   "codemirror_mode": {
    "name": "ipython",
    "version": 3
   },
   "file_extension": ".py",
   "mimetype": "text/x-python",
   "name": "python",
   "nbconvert_exporter": "python",
   "pygments_lexer": "ipython3",
   "version": "3.11.4"
  }
 },
 "nbformat": 4,
 "nbformat_minor": 5
}
